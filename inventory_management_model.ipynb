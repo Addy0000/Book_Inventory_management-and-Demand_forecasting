{
 "cells": [
  {
   "cell_type": "markdown",
   "source": [
    "## Imporing libraries"
   ],
   "metadata": {
    "collapsed": false
   }
  },
  {
   "cell_type": "code",
   "execution_count": 96,
   "metadata": {
    "collapsed": true
   },
   "outputs": [],
   "source": [
    "import pandas as pd\n",
    "from sklearn.preprocessing import LabelEncoder\n",
    "from sklearn.model_selection import train_test_split\n",
    "from sklearn.linear_model import LinearRegression\n",
    "from sklearn.ensemble import RandomForestRegressor\n",
    "import xgboost as xgb"
   ]
  },
  {
   "cell_type": "markdown",
   "source": [
    "## Importing The dataset."
   ],
   "metadata": {
    "collapsed": false
   }
  },
  {
   "cell_type": "code",
   "execution_count": 97,
   "outputs": [
    {
     "data": {
      "text/plain": "           ISBN                   Title  \\\n0    0195153448     Classical Mythology   \n1    0060973129    Decision in Normandy   \n2    0374157065                     Flu   \n3    0393045218  The Mummies of Ürümchi   \n4    0399135782  The Kitchen God's Wife   \n..          ...                     ...   \n887  0380752115   Whisper to Me of Love   \n888  0553212583       Wuthering Heights   \n889  0446364762    The Stars Shine Down   \n890  0425166619                   Toxin   \n891  0765341972  The Mothman Prophecies   \n\n                                          Authors  \\\n0    ['Mark P. O. Morford', 'Robert J. Lenardon']   \n1                                [\"Carlo D'Este\"]   \n2                            ['Gina Bari Kolata']   \n3                             ['E. J. W. Barber']   \n4                                     ['Amy Tan']   \n..                                            ...   \n887                            ['Shirlee Busbee']   \n888                              ['Emily Brontë']   \n889                            ['Sidney Sheldon']   \n890                                ['Robin Cook']   \n891                              ['John A. Keel']   \n\n                        Publisher Published Date  Rating  Review Count  \n0    Oxford University Press, USA           2003     NaN           NaN  \n1                Harper Perennial           1991     4.0           2.0  \n2                       Macmillan           1999     3.5          18.0  \n3                    W. W. Norton           1999     4.0           3.0  \n4         Putnam Publishing Group           1991     4.0          34.0  \n..                            ...            ...     ...           ...  \n887                           NaN           1991     2.0           1.0  \n888               Bantam Classics           1974     3.5          55.0  \n889      Grand Central Publishing     1993-09-01     4.0          14.0  \n890      Berkley Publishing Group           1999     3.5          14.0  \n891                     Macmillan     2002-02-18     4.0          14.0  \n\n[892 rows x 7 columns]",
      "text/html": "<div>\n<style scoped>\n    .dataframe tbody tr th:only-of-type {\n        vertical-align: middle;\n    }\n\n    .dataframe tbody tr th {\n        vertical-align: top;\n    }\n\n    .dataframe thead th {\n        text-align: right;\n    }\n</style>\n<table border=\"1\" class=\"dataframe\">\n  <thead>\n    <tr style=\"text-align: right;\">\n      <th></th>\n      <th>ISBN</th>\n      <th>Title</th>\n      <th>Authors</th>\n      <th>Publisher</th>\n      <th>Published Date</th>\n      <th>Rating</th>\n      <th>Review Count</th>\n    </tr>\n  </thead>\n  <tbody>\n    <tr>\n      <th>0</th>\n      <td>0195153448</td>\n      <td>Classical Mythology</td>\n      <td>['Mark P. O. Morford', 'Robert J. Lenardon']</td>\n      <td>Oxford University Press, USA</td>\n      <td>2003</td>\n      <td>NaN</td>\n      <td>NaN</td>\n    </tr>\n    <tr>\n      <th>1</th>\n      <td>0060973129</td>\n      <td>Decision in Normandy</td>\n      <td>[\"Carlo D'Este\"]</td>\n      <td>Harper Perennial</td>\n      <td>1991</td>\n      <td>4.0</td>\n      <td>2.0</td>\n    </tr>\n    <tr>\n      <th>2</th>\n      <td>0374157065</td>\n      <td>Flu</td>\n      <td>['Gina Bari Kolata']</td>\n      <td>Macmillan</td>\n      <td>1999</td>\n      <td>3.5</td>\n      <td>18.0</td>\n    </tr>\n    <tr>\n      <th>3</th>\n      <td>0393045218</td>\n      <td>The Mummies of Ürümchi</td>\n      <td>['E. J. W. Barber']</td>\n      <td>W. W. Norton</td>\n      <td>1999</td>\n      <td>4.0</td>\n      <td>3.0</td>\n    </tr>\n    <tr>\n      <th>4</th>\n      <td>0399135782</td>\n      <td>The Kitchen God's Wife</td>\n      <td>['Amy Tan']</td>\n      <td>Putnam Publishing Group</td>\n      <td>1991</td>\n      <td>4.0</td>\n      <td>34.0</td>\n    </tr>\n    <tr>\n      <th>...</th>\n      <td>...</td>\n      <td>...</td>\n      <td>...</td>\n      <td>...</td>\n      <td>...</td>\n      <td>...</td>\n      <td>...</td>\n    </tr>\n    <tr>\n      <th>887</th>\n      <td>0380752115</td>\n      <td>Whisper to Me of Love</td>\n      <td>['Shirlee Busbee']</td>\n      <td>NaN</td>\n      <td>1991</td>\n      <td>2.0</td>\n      <td>1.0</td>\n    </tr>\n    <tr>\n      <th>888</th>\n      <td>0553212583</td>\n      <td>Wuthering Heights</td>\n      <td>['Emily Brontë']</td>\n      <td>Bantam Classics</td>\n      <td>1974</td>\n      <td>3.5</td>\n      <td>55.0</td>\n    </tr>\n    <tr>\n      <th>889</th>\n      <td>0446364762</td>\n      <td>The Stars Shine Down</td>\n      <td>['Sidney Sheldon']</td>\n      <td>Grand Central Publishing</td>\n      <td>1993-09-01</td>\n      <td>4.0</td>\n      <td>14.0</td>\n    </tr>\n    <tr>\n      <th>890</th>\n      <td>0425166619</td>\n      <td>Toxin</td>\n      <td>['Robin Cook']</td>\n      <td>Berkley Publishing Group</td>\n      <td>1999</td>\n      <td>3.5</td>\n      <td>14.0</td>\n    </tr>\n    <tr>\n      <th>891</th>\n      <td>0765341972</td>\n      <td>The Mothman Prophecies</td>\n      <td>['John A. Keel']</td>\n      <td>Macmillan</td>\n      <td>2002-02-18</td>\n      <td>4.0</td>\n      <td>14.0</td>\n    </tr>\n  </tbody>\n</table>\n<p>892 rows × 7 columns</p>\n</div>"
     },
     "execution_count": 97,
     "metadata": {},
     "output_type": "execute_result"
    }
   ],
   "source": [
    "books_df = pd.read_csv(\"books_data.csv\")\n",
    "books_df.head(-1)"
   ],
   "metadata": {
    "collapsed": false
   }
  },
  {
   "cell_type": "code",
   "execution_count": 85,
   "outputs": [
    {
     "name": "stdout",
     "output_type": "stream",
     "text": [
      "<class 'pandas.core.frame.DataFrame'>\n",
      "RangeIndex: 893 entries, 0 to 892\n",
      "Data columns (total 7 columns):\n",
      " #   Column          Non-Null Count  Dtype  \n",
      "---  ------          --------------  -----  \n",
      " 0   ISBN            893 non-null    object \n",
      " 1   Title           893 non-null    object \n",
      " 2   Authors         891 non-null    object \n",
      " 3   Publisher       747 non-null    object \n",
      " 4   Published Date  893 non-null    object \n",
      " 5   Rating          647 non-null    float64\n",
      " 6   Review Count    647 non-null    float64\n",
      "dtypes: float64(2), object(5)\n",
      "memory usage: 49.0+ KB\n"
     ]
    }
   ],
   "source": [
    "books_df.info()"
   ],
   "metadata": {
    "collapsed": false
   }
  },
  {
   "cell_type": "markdown",
   "source": [
    "## Data preprocessing"
   ],
   "metadata": {
    "collapsed": false
   }
  },
  {
   "cell_type": "code",
   "execution_count": 86,
   "outputs": [
    {
     "data": {
      "text/plain": "         ISBN                   Title  \\\n0  0195153448     Classical Mythology   \n1  0060973129    Decision in Normandy   \n2  0374157065                     Flu   \n3  0393045218  The Mummies of Ürümchi   \n4  0399135782  The Kitchen God's Wife   \n\n                                        Authors                     Publisher  \\\n0  ['Mark P. O. Morford', 'Robert J. Lenardon']  Oxford University Press, USA   \n1                              [\"Carlo D'Este\"]              Harper Perennial   \n2                          ['Gina Bari Kolata']                     Macmillan   \n3                           ['E. J. W. Barber']                  W. W. Norton   \n4                                   ['Amy Tan']       Putnam Publishing Group   \n\n  Published Date  Rating  Review Count  year  \n0           2003     NaN           NaN  2003  \n1           1991     4.0           2.0  1991  \n2           1999     3.5          18.0  1999  \n3           1999     4.0           3.0  1999  \n4           1991     4.0          34.0  1991  ",
      "text/html": "<div>\n<style scoped>\n    .dataframe tbody tr th:only-of-type {\n        vertical-align: middle;\n    }\n\n    .dataframe tbody tr th {\n        vertical-align: top;\n    }\n\n    .dataframe thead th {\n        text-align: right;\n    }\n</style>\n<table border=\"1\" class=\"dataframe\">\n  <thead>\n    <tr style=\"text-align: right;\">\n      <th></th>\n      <th>ISBN</th>\n      <th>Title</th>\n      <th>Authors</th>\n      <th>Publisher</th>\n      <th>Published Date</th>\n      <th>Rating</th>\n      <th>Review Count</th>\n      <th>year</th>\n    </tr>\n  </thead>\n  <tbody>\n    <tr>\n      <th>0</th>\n      <td>0195153448</td>\n      <td>Classical Mythology</td>\n      <td>['Mark P. O. Morford', 'Robert J. Lenardon']</td>\n      <td>Oxford University Press, USA</td>\n      <td>2003</td>\n      <td>NaN</td>\n      <td>NaN</td>\n      <td>2003</td>\n    </tr>\n    <tr>\n      <th>1</th>\n      <td>0060973129</td>\n      <td>Decision in Normandy</td>\n      <td>[\"Carlo D'Este\"]</td>\n      <td>Harper Perennial</td>\n      <td>1991</td>\n      <td>4.0</td>\n      <td>2.0</td>\n      <td>1991</td>\n    </tr>\n    <tr>\n      <th>2</th>\n      <td>0374157065</td>\n      <td>Flu</td>\n      <td>['Gina Bari Kolata']</td>\n      <td>Macmillan</td>\n      <td>1999</td>\n      <td>3.5</td>\n      <td>18.0</td>\n      <td>1999</td>\n    </tr>\n    <tr>\n      <th>3</th>\n      <td>0393045218</td>\n      <td>The Mummies of Ürümchi</td>\n      <td>['E. J. W. Barber']</td>\n      <td>W. W. Norton</td>\n      <td>1999</td>\n      <td>4.0</td>\n      <td>3.0</td>\n      <td>1999</td>\n    </tr>\n    <tr>\n      <th>4</th>\n      <td>0399135782</td>\n      <td>The Kitchen God's Wife</td>\n      <td>['Amy Tan']</td>\n      <td>Putnam Publishing Group</td>\n      <td>1991</td>\n      <td>4.0</td>\n      <td>34.0</td>\n      <td>1991</td>\n    </tr>\n  </tbody>\n</table>\n</div>"
     },
     "execution_count": 86,
     "metadata": {},
     "output_type": "execute_result"
    }
   ],
   "source": [
    "books_df['year'] = pd.DatetimeIndex(books_df['Published Date']).year\n",
    "books_df.head()"
   ],
   "metadata": {
    "collapsed": false
   }
  },
  {
   "cell_type": "code",
   "execution_count": 87,
   "outputs": [
    {
     "data": {
      "text/plain": "ISBN                0\nTitle               0\nAuthors             2\nPublisher         146\nPublished Date      0\nRating            246\nReview Count      246\nyear                0\ndtype: int64"
     },
     "execution_count": 87,
     "metadata": {},
     "output_type": "execute_result"
    }
   ],
   "source": [
    "books_df.isnull().sum()"
   ],
   "metadata": {
    "collapsed": false
   }
  },
  {
   "cell_type": "code",
   "execution_count": 88,
   "outputs": [
    {
     "data": {
      "text/plain": "ISBN              0\nTitle             0\nAuthors           0\nPublisher         0\nPublished Date    0\nRating            0\nReview Count      0\nyear              0\ndtype: int64"
     },
     "execution_count": 88,
     "metadata": {},
     "output_type": "execute_result"
    }
   ],
   "source": [
    "books_df = books_df.dropna()\n",
    "books_df.isnull().sum()"
   ],
   "metadata": {
    "collapsed": false
   }
  },
  {
   "cell_type": "markdown",
   "source": [
    "## Feature Engineering"
   ],
   "metadata": {
    "collapsed": false
   }
  },
  {
   "cell_type": "code",
   "execution_count": 89,
   "outputs": [],
   "source": [
    "le = LabelEncoder()\n",
    "books_df['Publisher'] = le.fit_transform(books_df['Publisher'])\n",
    "books_df['Authors'] = le.fit_transform(books_df['Authors'])\n",
    "\n",
    "# Split the data into training and test sets\n",
    "X = books_df[['Rating', 'Publisher', 'Authors', 'year']]\n",
    "y = books_df['Review Count']\n",
    "\n",
    "X_train, X_test, y_train, y_test = train_test_split(X, y, test_size=0.2, random_state=42)"
   ],
   "metadata": {
    "collapsed": false
   }
  },
  {
   "cell_type": "markdown",
   "source": [
    "## Linear Regression"
   ],
   "metadata": {
    "collapsed": false
   }
  },
  {
   "cell_type": "code",
   "execution_count": 90,
   "outputs": [
    {
     "name": "stdout",
     "output_type": "stream",
     "text": [
      "Mean Absolute Error:  267.78144293982245\n",
      "Mean Squared Error:  305065.7410785371\n",
      "R-Squared:  -0.015146731230721855\n"
     ]
    }
   ],
   "source": [
    "# Create and fit the linear regression model\n",
    "reg = LinearRegression().fit(X_train, y_train)\n",
    "\n",
    "# Make predictions on the test set\n",
    "y_pred = reg.predict(X_test)\n",
    "\n",
    "# Evaluate the model\n",
    "from sklearn.metrics import mean_absolute_error, mean_squared_error, r2_score\n",
    "print(\"Mean Absolute Error: \", mean_absolute_error(y_test, y_pred))\n",
    "print(\"Mean Squared Error: \", mean_squared_error(y_test, y_pred))\n",
    "print(\"R-Squared: \", r2_score(y_test, y_pred))"
   ],
   "metadata": {
    "collapsed": false
   }
  },
  {
   "cell_type": "markdown",
   "source": [
    "Prediction\n"
   ],
   "metadata": {
    "collapsed": false
   }
  },
  {
   "cell_type": "code",
   "execution_count": 91,
   "outputs": [
    {
     "data": {
      "text/plain": "array([188.87427808, 102.0608493 , 221.02504512, 211.30579069,\n       264.26036247, 251.13892481, 273.41286746, 208.46190136,\n       152.36452616, 202.95649313, 196.21974933, 216.160899  ,\n       241.15409998, 260.0685406 ,  89.42483838, 161.5320166 ,\n       133.06591983, 196.31169085, 183.21174583, 154.2866211 ,\n        49.33390459, 210.62217503, 218.2439302 , 148.34093391,\n       170.69998402, 262.08652133, 114.40581197, 253.68650893,\n       162.02068441, 211.40477572, 181.06691227, 269.19440393,\n       287.97889247, 307.96903963, 348.3087168 , 116.66402083,\n       182.57416007, 148.53492308, 319.53837243, 246.1252647 ,\n       233.37693774,  60.54567162, 230.41691459, 195.05163728,\n       212.61052936,  21.25712209, 179.59693388, 361.93985647,\n       176.89954507, 180.16774163, 182.08420632,  71.34913447,\n       249.76651348, 146.12766424, 164.10637866, 168.04890321,\n       194.18326117, 298.29617342, 305.35548175, 127.7392831 ,\n       233.66375055, 260.45462444, 187.18724549, 185.50692868,\n        97.71907254, 144.4478476 , 245.2507272 , 149.48440813,\n       189.24005503, 224.72466043, 228.81619843, 151.36715242,\n       175.73890821, 145.4733792 , 172.89111117, 167.747754  ,\n       273.05650512, 133.81019655, 145.99310039, 189.08598852,\n       188.55123658, 305.58435906, 133.6924047 , 144.32746541,\n       188.197401  ,  66.11873403, 360.66468495, 172.29174918,\n       202.16710433, 221.800389  , 175.78985482, 121.21222359,\n       126.85043235, 146.65602295, 247.76808965, 160.38067693,\n       110.93334761, 279.58041162, 178.83356793, 226.46315788,\n       186.76675049, 161.65527088, 175.95184141, 143.31366971,\n       268.97377349, 129.53163972,  63.20439582, 120.71046482,\n       342.92974375, 243.95739397, 216.91679916, 189.05986595,\n       123.86678976, 245.16843205, 276.5194547 ])"
     },
     "execution_count": 91,
     "metadata": {},
     "output_type": "execute_result"
    }
   ],
   "source": [
    "y_pred"
   ],
   "metadata": {
    "collapsed": false
   }
  },
  {
   "cell_type": "markdown",
   "source": [
    "## Random Forest Regressor"
   ],
   "metadata": {
    "collapsed": false
   }
  },
  {
   "cell_type": "code",
   "execution_count": 92,
   "outputs": [
    {
     "name": "stdout",
     "output_type": "stream",
     "text": [
      "Mean Absolute Error:  167.78179420289857\n",
      "Mean Squared Error:  335031.5223296995\n",
      "R-Squared:  -0.11486184436779823\n"
     ]
    }
   ],
   "source": [
    "# One-hot encode categorical features (publisher and author)\n",
    "X = pd.get_dummies(X, columns=['Publisher', 'Authors'], drop_first=True)\n",
    "\n",
    "X_train, X_test, y_train, y_test = train_test_split(X, y, test_size=0.2, random_state=42)\n",
    "\n",
    "# Initialize the model\n",
    "rf = RandomForestRegressor(n_estimators=100, random_state=42)\n",
    "\n",
    "# Fit the model to the training data\n",
    "rf.fit(X_train, y_train)\n",
    "\n",
    "# Make predictions on the test data\n",
    "y_pred = rf.predict(X_test)\n",
    "\n",
    "# Evaluate the model\n",
    "print(\"Mean Absolute Error: \", mean_absolute_error(y_test, y_pred))\n",
    "print(\"Mean Squared Error: \", mean_squared_error(y_test, y_pred))\n",
    "print(\"R-Squared: \", r2_score(y_test, y_pred))\n"
   ],
   "metadata": {
    "collapsed": false
   }
  },
  {
   "cell_type": "markdown",
   "source": [
    "prediction"
   ],
   "metadata": {
    "collapsed": false
   }
  },
  {
   "cell_type": "code",
   "execution_count": 93,
   "outputs": [
    {
     "data": {
      "text/plain": "array([1.12400000e+01, 1.00000000e+00, 7.32000000e+00, 8.59000000e+00,\n       9.27000000e+00, 5.40000000e+00, 5.13000000e+00, 5.21000000e+00,\n       1.05600000e+01, 6.53000000e+00, 9.07160000e+02, 8.01000000e+00,\n       7.57000000e+00, 2.86600000e+00, 7.70300000e+01, 1.08300000e+01,\n       3.79000000e+01, 8.47000000e+00, 3.98350000e+00, 5.94000000e+00,\n       2.66000000e+00, 1.97307000e+03, 6.46000000e+00, 1.00000000e+00,\n       1.28800000e+01, 6.27000000e+00, 4.57000000e+00, 4.31000000e+00,\n       7.37000000e+00, 3.38000000e+00, 9.10130000e+02, 8.59000000e+00,\n       6.80000000e+00, 4.24000000e+00, 5.18000000e+00, 5.21500000e+01,\n       4.25666667e+01, 3.10000000e+00, 3.09520000e+02, 5.12000000e+00,\n       1.23224000e+03, 1.00000000e+00, 1.26700000e+01, 4.66000000e+00,\n       1.67000000e+00, 6.84800000e+01, 7.35000000e+00, 4.72000000e+00,\n       3.59000000e+00, 8.30000000e+00, 1.21800000e+01, 6.54000000e+00,\n       2.54000000e+00, 8.41750000e+00, 9.14750000e+00, 6.46750000e+00,\n       4.60000000e+00, 7.39000000e+00, 1.83000000e+00, 5.58000000e+00,\n       3.41850000e+00, 3.85850000e+00, 5.86000000e+00, 7.03000000e+00,\n       2.44000000e+00, 2.52100000e+00, 1.88000000e+00, 2.38100000e+01,\n       7.10350000e+00, 1.14400000e+01, 9.12000000e+00, 2.80000000e+00,\n       8.77000000e+00, 1.28800000e+01, 2.26000000e+00, 1.12400000e+01,\n       1.13056000e+03, 7.65000000e+00, 5.33700000e+01, 7.52000000e+00,\n       2.86000000e+00, 4.00000000e+00, 1.54000000e+00, 1.00000000e+00,\n       1.06858000e+03, 1.00000000e+00, 4.72000000e+00, 2.99750000e+00,\n       9.77000000e+00, 5.75000000e+00, 9.27000000e+00, 5.85000000e+00,\n       1.00000000e+00, 2.93000000e+00, 5.40000000e+00, 9.89700000e+01,\n       2.44380000e+02, 9.64000000e+00, 2.39000000e+00, 7.15000000e+00,\n       8.97000000e+00, 7.57000000e+00, 1.04000000e+00, 4.90000000e+00,\n       5.03000000e+00, 9.97000000e+00, 1.00000000e+00, 2.93000000e+00,\n       8.19000000e+00, 7.34000000e+00, 1.13427000e+03, 1.88000000e+00,\n       9.59000000e+00, 7.44000000e+00, 6.20000000e+00])"
     },
     "execution_count": 93,
     "metadata": {},
     "output_type": "execute_result"
    }
   ],
   "source": [
    "y_pred"
   ],
   "metadata": {
    "collapsed": false
   }
  },
  {
   "cell_type": "markdown",
   "source": [
    "## XG Boost"
   ],
   "metadata": {
    "collapsed": false
   }
  },
  {
   "cell_type": "code",
   "execution_count": 94,
   "outputs": [
    {
     "name": "stderr",
     "output_type": "stream",
     "text": [
      "C:\\Users\\lenovo\\anaconda3\\lib\\site-packages\\xgboost\\data.py:250: FutureWarning: pandas.Int64Index is deprecated and will be removed from pandas in a future version. Use pandas.Index with the appropriate dtype instead.\n",
      "  elif isinstance(data.columns, (pd.Int64Index, pd.RangeIndex)):\n"
     ]
    },
    {
     "name": "stdout",
     "output_type": "stream",
     "text": [
      "Mean Absolute Error:  181.58873048035994\n",
      "Mean Squared Error:  438049.7784029963\n",
      "R-Squared:  -0.45766876047763994\n"
     ]
    }
   ],
   "source": [
    "# One-hot encode categorical features (publisher and author)\n",
    "\n",
    "X_train, X_test, y_train, y_test = train_test_split(X, y, test_size=0.2, random_state=42)\n",
    "\n",
    "# Initialize the model\n",
    "xgb_model = xgb.XGBRegressor()\n",
    "\n",
    "# Fit the model to the training data\n",
    "xgb_model.fit(X_train, y_train)\n",
    "\n",
    "# Make predictions on the test data\n",
    "y_pred = xgb_model.predict(X_test)\n",
    "\n",
    "# Evaluate the model\n",
    "print(\"Mean Absolute Error: \", mean_absolute_error(y_test, y_pred))\n",
    "print(\"Mean Squared Error: \", mean_squared_error(y_test, y_pred))\n",
    "print(\"R-Squared: \", r2_score(y_test, y_pred))"
   ],
   "metadata": {
    "collapsed": false
   }
  },
  {
   "cell_type": "markdown",
   "source": [
    "prediction"
   ],
   "metadata": {
    "collapsed": false
   }
  },
  {
   "cell_type": "code",
   "execution_count": 95,
   "outputs": [
    {
     "data": {
      "text/plain": "array([  29.392454,    4.976196,   38.80099 ,   38.80099 ,   14.679569,\n         28.54876 ,   28.54876 ,   32.52045 ,   28.54876 ,   28.54876 ,\n       2640.581   ,   25.420765,   28.54876 ,   28.54876 ,   40.69058 ,\n         28.54876 ,   28.54876 ,   24.931799,   28.54876 ,    4.976196,\n         15.09506 , 2733.1487  ,   28.54876 ,    4.976196,   28.54876 ,\n         38.80099 ,   28.54876 ,   14.679569,   28.54876 ,   19.066753,\n         90.0029  ,   38.80099 ,   18.65126 ,   14.679569,   14.679569,\n         32.52045 ,   28.54876 ,   28.54876 ,  152.60033 ,   14.679569,\n       1996.9495  ,    4.976196,   11.551573,   28.54876 ,   15.22843 ,\n         27.100327,   32.52045 ,   14.679569,   28.54876 ,   28.54876 ,\n         28.54876 ,    4.976196,   24.931799,   28.54876 ,   28.54876 ,\n         28.54876 ,   28.54876 ,   14.679569,   14.679569,   14.679569,\n         28.54876 ,   28.54876 ,   32.52045 ,   28.54876 ,   15.09506 ,\n         28.54876 ,   28.54876 ,   14.679569,   28.54876 ,   28.54876 ,\n         28.54876 ,   28.54876 ,   38.80099 ,   14.679569,   15.09506 ,\n         29.392454,   42.75365 ,   28.54876 ,   28.54876 ,   28.54876 ,\n         14.679569,   14.679569,    8.947888,    4.976196, 3260.7214  ,\n          4.976196,   14.679569,   28.54876 ,   28.54876 ,   28.54876 ,\n         38.80099 ,   15.09506 ,    4.976196,   28.54876 ,   28.54876 ,\n        131.61777 ,  364.15384 ,   14.679569,   15.09506 ,   25.420765,\n         32.52045 ,   28.54876 ,    4.976196,   15.09506 ,   14.679569,\n         28.54876 ,    4.976196,   28.54876 ,   18.65126 ,   28.54876 ,\n         56.622845,   28.54876 ,   28.54876 ,   32.52045 ,   24.931799],\n      dtype=float32)"
     },
     "execution_count": 95,
     "metadata": {},
     "output_type": "execute_result"
    }
   ],
   "source": [
    "y_pred"
   ],
   "metadata": {
    "collapsed": false
   }
  }
 ],
 "metadata": {
  "kernelspec": {
   "display_name": "Python 3",
   "language": "python",
   "name": "python3"
  },
  "language_info": {
   "codemirror_mode": {
    "name": "ipython",
    "version": 2
   },
   "file_extension": ".py",
   "mimetype": "text/x-python",
   "name": "python",
   "nbconvert_exporter": "python",
   "pygments_lexer": "ipython2",
   "version": "2.7.6"
  }
 },
 "nbformat": 4,
 "nbformat_minor": 0
}
